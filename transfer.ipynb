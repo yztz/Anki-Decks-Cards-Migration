{
 "cells": [
  {
   "cell_type": "code",
   "execution_count": null,
   "metadata": {},
   "outputs": [],
   "source": [
    "import json\n",
    "import urllib.request\n",
    "\n",
    "url = 'http://127.0.0.1:8765'\n",
    "origin_deck = \"考研词汇5500::1 Recite\"\n",
    "target_deck = \"2024红宝书考研词汇（必考词+基础词+超纲词）\"\n",
    "origin_word_field_name = \"单词\"\n",
    "target_word_field_name = \"正面\"\n",
    "\n",
    "\n",
    "def request(action, **params):\n",
    "    return {'action': action, 'params': params, 'version': 6}\n",
    "\n",
    "def invoke(action, **params):\n",
    "    requestJson = json.dumps(request(action, **params)).encode('utf-8')\n",
    "    response = json.load(urllib.request.urlopen(urllib.request.Request(url, requestJson)))\n",
    "    if len(response) != 2:\n",
    "        raise Exception('response has an unexpected number of fields')\n",
    "    if 'error' not in response:\n",
    "        raise Exception('response is missing required error field')\n",
    "    if 'result' not in response:\n",
    "        raise Exception('response is missing required result field')\n",
    "    if response['error'] is not None:\n",
    "        raise Exception(response['error'])\n",
    "    return response['result']"
   ]
  },
  {
   "cell_type": "code",
   "execution_count": null,
   "metadata": {},
   "outputs": [],
   "source": [
    "# get cards ID\n",
    "origin_cards = invoke(\"findCards\", query=f\"\\\"deck:{origin_deck}\\\"\")"
   ]
  },
  {
   "cell_type": "code",
   "execution_count": null,
   "metadata": {},
   "outputs": [],
   "source": [
    "# filter learned cards\n",
    "card_infos = invoke(\"cardsInfo\", cards=origin_cards)\n",
    "del origin_cards\n",
    "card_infos = [info for info in card_infos if info[\"type\"] > 0 ]"
   ]
  },
  {
   "cell_type": "code",
   "execution_count": null,
   "metadata": {},
   "outputs": [],
   "source": [
    "for key in card_infos[0]:\n",
    "    print(key, end=\" \")\n",
    "\n",
    "# print(card_infos[0][\"fields\"][origin_word_field_name][\"value\"] + \" \" + str(card_infos[0][\"due\"]))"
   ]
  },
  {
   "cell_type": "code",
   "execution_count": null,
   "metadata": {},
   "outputs": [],
   "source": [
    "# find same cards in target deck\n",
    "for info in card_infos:\n",
    "    origin_id = info['cardId']\n",
    "    word = info[\"fields\"][origin_word_field_name][\"value\"]\n",
    "    ids = invoke(\"findCards\", query=f\"\\\"deck:{target_deck}\\\" \\\"{target_word_field_name}:{word}\\\"\")\n",
    "    if(len(ids) > 0):\n",
    "        if (len(ids) > 1): \n",
    "            print(f\"Waring: find duplicated card for word: {word}. Skip Now.\")\n",
    "            continue\n",
    "        \n",
    "        target_id = ids[0]\n",
    "        new_infos = invoke(\"cardsInfo\", cards=[target_id])\n",
    "\n",
    "        assert(len(new_infos) == 1 and new_infos[0][\"fields\"][target_word_field_name][\"value\"] == word)\n",
    "\n",
    "        print(f\"*** Start Merge word [{word}] Origin ID {origin_id} ---> Target ID {target_id}\")\n",
    "\n",
    "        # update card\n",
    "        print(f\"- Updating word: {word}\")\n",
    "        __type_ = info[\"type\"]\n",
    "        __queue = info[\"queue\"]\n",
    "        __due = info[\"due\"] # no way to calculate due time delta now\n",
    "        __ivl = info[\"interval\"]\n",
    "        __factor = info[\"factor\"]\n",
    "        __reps = info[\"reps\"]\n",
    "        __lapses = info[\"lapses\"]\n",
    "        __left = info[\"left\"]\n",
    "        sc_result = invoke(\"setSpecificValueOfCard\", \n",
    "                        card=target_id, \n",
    "                        keys=[\"type\", \"queue\", \"due\", \"ivl\", \"factor\", \"reps\", \"lapses\", \"left\", \"usn\"],\n",
    "                        newValues=[__type_, __queue, __due, __ivl, __factor, __reps, __lapses, __left, -1], warning_check=True)\n",
    "        assert(sc_result[0])\n",
    "        \n",
    "        # update related review records\n",
    "        print(f\"- Updating reviews records: {word}\")\n",
    "        reviews = invoke(\"getReviewsOfCards\", cards=[origin_id])\n",
    "        reviews = reviews[f\"{origin_id}\"]\n",
    "\n",
    "        print(f\"- Find {len(reviews)} reviews records of CardID {origin_id}\")\n",
    "        new_reviews = []\n",
    "        # build new reviews\n",
    "        for review in reviews:\n",
    "            __reviewTime = review['id'] + 1\n",
    "            __cardID = target_id\n",
    "            __usn = -1\n",
    "            __buttonPressed = review['ease']\n",
    "            __newInterval = review['ivl']\n",
    "            __previousInterval = review['lastIvl']\n",
    "            __newFactor = review['factor']\n",
    "            __reviewDuration = review['time']\n",
    "            __reviewType = review['type']\n",
    "            new_reviews.append([__reviewTime, __cardID, __usn, __buttonPressed, __newInterval, __previousInterval, __newFactor, __reviewDuration, __reviewType])\n",
    "\n",
    "        try:\n",
    "            insert_result = invoke(\"insertReviews\", reviews=new_reviews)\n",
    "        except Exception as e:\n",
    "            print(\"Note: Record already exists. Skip it.\")\n",
    "\n",
    "        print(f\"*** Success to merge word [{word}]!\")\n",
    "        # break\n",
    "    else:\n",
    "        print(f\"Note: Cannot find word {word} in target deck.\")"
   ]
  }
 ],
 "metadata": {
  "kernelspec": {
   "display_name": "base",
   "language": "python",
   "name": "python3"
  },
  "language_info": {
   "codemirror_mode": {
    "name": "ipython",
    "version": 3
   },
   "file_extension": ".py",
   "mimetype": "text/x-python",
   "name": "python",
   "nbconvert_exporter": "python",
   "pygments_lexer": "ipython3",
   "version": "3.9.13"
  },
  "orig_nbformat": 4
 },
 "nbformat": 4,
 "nbformat_minor": 2
}
